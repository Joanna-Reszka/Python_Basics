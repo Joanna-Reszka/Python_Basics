{
 "cells": [
  {
   "cell_type": "code",
   "execution_count": 4,
   "id": "e09770f2-50cf-4f08-9042-344655c597ba",
   "metadata": {},
   "outputs": [
    {
     "ename": "SyntaxError",
     "evalue": "unterminated string literal (detected at line 2) (3081572602.py, line 2)",
     "output_type": "error",
     "traceback": [
      "\u001b[1;36m  Input \u001b[1;32mIn [4]\u001b[1;36m\u001b[0m\n\u001b[1;33m    print(\"Hello World)\u001b[0m\n\u001b[1;37m          ^\u001b[0m\n\u001b[1;31mSyntaxError\u001b[0m\u001b[1;31m:\u001b[0m unterminated string literal (detected at line 2)\n"
     ]
    }
   ],
   "source": [
    "# 3.2.1 Syntax Error\n",
    "print(\"Hello World)"
   ]
  },
  {
   "cell_type": "code",
   "execution_count": 5,
   "id": "cecb6caf-059e-4397-b4da-03f7a5066221",
   "metadata": {},
   "outputs": [
    {
     "ename": "NameError",
     "evalue": "name 'Hello' is not defined",
     "output_type": "error",
     "traceback": [
      "\u001b[1;31m---------------------------------------------------------------------------\u001b[0m",
      "\u001b[1;31mNameError\u001b[0m                                 Traceback (most recent call last)",
      "Input \u001b[1;32mIn [5]\u001b[0m, in \u001b[0;36m<module>\u001b[1;34m\u001b[0m\n\u001b[0;32m      1\u001b[0m \u001b[38;5;66;03m#Name Error\u001b[39;00m\n\u001b[1;32m----> 2\u001b[0m \u001b[38;5;28mprint\u001b[39m(\u001b[43mHello\u001b[49m, World)\n",
      "\u001b[1;31mNameError\u001b[0m: name 'Hello' is not defined"
     ]
    }
   ],
   "source": [
    "# 3.2.2 Name Error\n",
    "print(Hello, World)"
   ]
  },
  {
   "cell_type": "code",
   "execution_count": 6,
   "id": "52c26823-5b2b-456f-b48e-a959ed37950a",
   "metadata": {},
   "outputs": [
    {
     "name": "stdout",
     "output_type": "stream",
     "text": [
      "Display text\n"
     ]
    }
   ],
   "source": [
    "# 3.3.1\n",
    "print(\"Display text\")"
   ]
  },
  {
   "cell_type": "code",
   "execution_count": 7,
   "id": "4cccab2e-2669-4fbe-99ad-430783f2c1c1",
   "metadata": {},
   "outputs": [
    {
     "name": "stdout",
     "output_type": "stream",
     "text": [
      "Hi there\n"
     ]
    }
   ],
   "source": [
    "# 3.3.2 \n",
    "greeting = 'Hi there'\n",
    "print(greeting)"
   ]
  },
  {
   "cell_type": "code",
   "execution_count": 8,
   "id": "0879045a-147a-4e9f-aa08-dfd3fd466c4b",
   "metadata": {},
   "outputs": [
    {
     "name": "stdout",
     "output_type": "stream",
     "text": [
      "She said:\"Hurry up!\"\n"
     ]
    }
   ],
   "source": [
    "# 4.1.1\n",
    "print('She said:\"Hurry up!\"')"
   ]
  },
  {
   "cell_type": "code",
   "execution_count": 9,
   "id": "679d9424-bf18-4941-90bd-a6f6094c36d4",
   "metadata": {},
   "outputs": [
    {
     "name": "stdout",
     "output_type": "stream",
     "text": [
      "Hell's Kitchen has delicious food\n"
     ]
    }
   ],
   "source": [
    "# 4.1.2\n",
    "print(\"Hell's Kitchen has delicious food\")"
   ]
  },
  {
   "cell_type": "code",
   "execution_count": 20,
   "id": "d3b14f06-9e35-4045-a976-2cad6654e5cb",
   "metadata": {},
   "outputs": [
    {
     "name": "stdout",
     "output_type": "stream",
     "text": [
      "A black hole is a place in space where gravity pulls so much\n",
      "      that even light can not get out. The gravity is so strong because\n",
      "      matter has been squeezed into a tiny space. \n"
     ]
    }
   ],
   "source": [
    "# 4.1.3\n",
    "text =('''A black hole is a place in space where gravity pulls so much\n",
    "      that even light can not get out. The gravity is so strong because\n",
    "      matter has been squeezed into a tiny space. ''')\n",
    "print(text)"
   ]
  },
  {
   "cell_type": "code",
   "execution_count": 21,
   "id": "9a6a57cc-25e3-4f7e-bb91-45f8992a466a",
   "metadata": {},
   "outputs": [
    {
     "name": "stdout",
     "output_type": "stream",
     "text": [
      "A black hole is a place in space where gravity pulls so much that even light can not get out.\n"
     ]
    }
   ],
   "source": [
    "# 4.1.4\n",
    "text = (\"A black hole is a place\\\n",
    " in space where gravity pulls so much\\\n",
    " that even light can not get out.\")\n",
    "print(text)"
   ]
  },
  {
   "cell_type": "code",
   "execution_count": 23,
   "id": "1bae0e7f-3879-4950-b6d6-60bc91505ac9",
   "metadata": {},
   "outputs": [
    {
     "name": "stdout",
     "output_type": "stream",
     "text": [
      "33\n"
     ]
    }
   ],
   "source": [
    "# 4.2.1\n",
    "text = \"Hell's Kitchen has delicious food\"\n",
    "print(len(text))"
   ]
  },
  {
   "cell_type": "code",
   "execution_count": 25,
   "id": "92c03cf6-4857-4a66-8fc5-95844a33fba3",
   "metadata": {},
   "outputs": [
    {
     "name": "stdout",
     "output_type": "stream",
     "text": [
      "KogielMogiel\n"
     ]
    }
   ],
   "source": [
    "# 4.2.2\n",
    "word1 = 'Kogiel'\n",
    "word2 = 'Mogiel'\n",
    "joined = word1 + word2\n",
    "print(joined)"
   ]
  },
  {
   "cell_type": "code",
   "execution_count": 24,
   "id": "e2177dda-de44-44b7-a80d-1e8749076472",
   "metadata": {},
   "outputs": [
    {
     "name": "stdout",
     "output_type": "stream",
     "text": [
      "Sherlock Holmes\n"
     ]
    }
   ],
   "source": [
    "# 4.2.3\n",
    "name = 'Sherlock'\n",
    "surname = 'Holmes'\n",
    "fullname = name + ' ' + surname\n",
    "print(fullname)"
   ]
  },
  {
   "cell_type": "code",
   "execution_count": 26,
   "id": "45c53067-a876-4add-b4fe-ae53d9b7b4fc",
   "metadata": {},
   "outputs": [
    {
     "name": "stdout",
     "output_type": "stream",
     "text": [
      "zing\n"
     ]
    }
   ],
   "source": [
    "# 4.2.4\n",
    "word = 'bazinga'\n",
    "print(word[2:6])"
   ]
  },
  {
   "cell_type": "code",
   "execution_count": 28,
   "id": "d917b18a-8ec0-416a-9e04-37b860f2ecd6",
   "metadata": {},
   "outputs": [
    {
     "name": "stdout",
     "output_type": "stream",
     "text": [
      "animals\n",
      "badger\n",
      "honey bee\n",
      "honeybadger\n"
     ]
    }
   ],
   "source": [
    "# 4.3.1\n",
    "strings = [\"Animals\",\"Badger\", \"Honey Bee\", \"Honeybadger\"]\n",
    "for word in strings:\n",
    "    print(word.lower())\n"
   ]
  },
  {
   "cell_type": "code",
   "execution_count": 29,
   "id": "fa59e272-73a5-4ff8-8af0-affcd98a0e30",
   "metadata": {},
   "outputs": [
    {
     "name": "stdout",
     "output_type": "stream",
     "text": [
      "ANIMALS\n",
      "BADGER\n",
      "HONEY BEE\n",
      "HONEYBADGER\n"
     ]
    }
   ],
   "source": [
    "# 4.3.2\n",
    "strings = ['animals', 'badger', 'honey bee', 'honeybadger']\n",
    "for word in strings:\n",
    "    print(word.upper())"
   ]
  },
  {
   "cell_type": "code",
   "execution_count": 33,
   "id": "5a65a554-718d-407d-90a7-eb541c04bc4c",
   "metadata": {},
   "outputs": [
    {
     "name": "stdout",
     "output_type": "stream",
     "text": [
      "Filet Mignon\n",
      "Brisket\n",
      "Cheeseburger\n"
     ]
    }
   ],
   "source": [
    "# 4.3.3\n",
    "string1 = \" Filet Mignon\"\n",
    "string2 = \"Brisket \"\n",
    "string3 = \" Cheeseburger \"\n",
    "print(string1.lstrip())\n",
    "print(string2.rstrip())\n",
    "print(string3.strip())"
   ]
  },
  {
   "cell_type": "code",
   "execution_count": 34,
   "id": "1340a7c7-6549-4cb2-8a3f-94a3b50d9969",
   "metadata": {},
   "outputs": [
    {
     "name": "stdout",
     "output_type": "stream",
     "text": [
      "False\n",
      "True\n",
      "False\n",
      "False\n"
     ]
    }
   ],
   "source": [
    "# 4.3.4\n",
    "string1 = \"Becomes\"\n",
    "string2 = \"becomes\"\n",
    "string3 = \"BEAR\"\n",
    "string4 = \" bEautiful\"\n",
    "print(string1.startswith('be'))\n",
    "print(string2.startswith('be'))\n",
    "print(string3.startswith('be'))\n",
    "print(string4.startswith('be'))"
   ]
  },
  {
   "cell_type": "code",
   "execution_count": 41,
   "id": "d44cabe7-c4d7-4a44-a06b-b644024d3938",
   "metadata": {},
   "outputs": [
    {
     "name": "stdout",
     "output_type": "stream",
     "text": [
      "True\n",
      "True\n",
      "True\n",
      "True\n"
     ]
    }
   ],
   "source": [
    "# 4.3.5\n",
    "string1 = \"Becomes\"\n",
    "mod1a = \"b\" + string1[1:]\n",
    "mod1b = string1.lower()\n",
    "print(mod1a.startswith('be'))\n",
    "print(mod1b.startswith('be'))\n",
    "string3 = \"BEAR\"\n",
    "print(string3.lower().startswith('be'))\n",
    "string4 = \" bEautiful\"\n",
    "print(string4.lstrip().lower().startswith('be'))"
   ]
  },
  {
   "cell_type": "code",
   "execution_count": 1,
   "id": "e373e838-0f0b-4784-8d6b-0a475122f7ba",
   "metadata": {},
   "outputs": [
    {
     "name": "stdin",
     "output_type": "stream",
     "text": [
      "Type your name:  Asia\n"
     ]
    },
    {
     "name": "stdout",
     "output_type": "stream",
     "text": [
      "Asia\n"
     ]
    }
   ],
   "source": [
    "# 4.4.1\n",
    "name =input(\"Type your name: \")\n",
    "print(name)"
   ]
  },
  {
   "cell_type": "code",
   "execution_count": 2,
   "id": "65082044-2050-4bad-bce5-67a76a6224f4",
   "metadata": {},
   "outputs": [
    {
     "name": "stdin",
     "output_type": "stream",
     "text": [
      "Type your name:  Asia\n"
     ]
    },
    {
     "name": "stdout",
     "output_type": "stream",
     "text": [
      "asia\n"
     ]
    }
   ],
   "source": [
    "# 4.4.2\n",
    "name =input(\"Type your name: \")\n",
    "print(name.lower())"
   ]
  },
  {
   "cell_type": "code",
   "execution_count": 4,
   "id": "0643785c-12d4-480d-9f82-aa6637d12275",
   "metadata": {},
   "outputs": [
    {
     "name": "stdin",
     "output_type": "stream",
     "text": [
      "Type your name:  Asia\n"
     ]
    },
    {
     "name": "stdout",
     "output_type": "stream",
     "text": [
      "4\n"
     ]
    }
   ],
   "source": [
    "# 4.4.3\n",
    "name =input(\"Type your name: \")\n",
    "print(len(name))"
   ]
  },
  {
   "cell_type": "code",
   "execution_count": 6,
   "id": "5456613a-a394-4147-9ac7-27e8b45869ea",
   "metadata": {},
   "outputs": [
    {
     "name": "stdin",
     "output_type": "stream",
     "text": [
      "Enter your password:  moron\n"
     ]
    },
    {
     "name": "stdout",
     "output_type": "stream",
     "text": [
      "The first letter you entered was : M\n"
     ]
    }
   ],
   "source": [
    "# 4.5.1 first_letter\n",
    "password = input(\"Enter your password: \")\n",
    "print(f\"The first letter you entered was : {password[0].upper()}\")"
   ]
  },
  {
   "cell_type": "code",
   "execution_count": 8,
   "id": "7b75f151-b122-4b7c-b612-5af1d6d6d3dd",
   "metadata": {},
   "outputs": [
    {
     "name": "stdin",
     "output_type": "stream",
     "text": [
      "Enter your age:  45\n"
     ]
    },
    {
     "name": "stdout",
     "output_type": "stream",
     "text": [
      "That was your half aged you: 22.5\n"
     ]
    }
   ],
   "source": [
    "# 4.6.1\n",
    "age = int(input(\"Enter your age: \"))\n",
    "print(f\"That was your half aged you: {age*0.5}\")"
   ]
  },
  {
   "cell_type": "code",
   "execution_count": 11,
   "id": "1b78b887-66ee-4825-83b7-44896008a358",
   "metadata": {},
   "outputs": [
    {
     "name": "stdin",
     "output_type": "stream",
     "text": [
      "Enter your weight:  79.3\n"
     ]
    },
    {
     "name": "stdout",
     "output_type": "stream",
     "text": [
      "That is quarter of your weight: 19.825\n"
     ]
    }
   ],
   "source": [
    "# 4.6.2\n",
    "weight = float(input(\"Enter your weight: \"))\n",
    "print(f\"That is quarter of your weight: {weight*0.25}\")"
   ]
  },
  {
   "cell_type": "code",
   "execution_count": 12,
   "id": "cc86e3cf-516e-413c-9f7d-85d04846b6d9",
   "metadata": {},
   "outputs": [
    {
     "name": "stdout",
     "output_type": "stream",
     "text": [
      "Temperature is 3.5 degrees Celcius\n"
     ]
    }
   ],
   "source": [
    "# 4.6.3\n",
    "measure = \"temperature\"\n",
    "value = 3.5\n",
    "print(f\"{measure.title()} is {str(value)} degrees Celcius\")"
   ]
  },
  {
   "cell_type": "code",
   "execution_count": 16,
   "id": "84e8249c-9d80-4750-bdb5-1a785eb9f8d2",
   "metadata": {},
   "outputs": [
    {
     "name": "stdin",
     "output_type": "stream",
     "text": [
      "Enter first number:  3.4\n",
      "Enter second number:  6.7\n"
     ]
    },
    {
     "name": "stdout",
     "output_type": "stream",
     "text": [
      "The product is 22.78\n"
     ]
    }
   ],
   "source": [
    "# 4.6.4\n",
    "nr1 = float(input(\"Enter first number: \"))\n",
    "nr2 = float(input(\"Enter second number: \"))\n",
    "print(f\"The product of {nr1} and {nr2} is {nr1*nr2}\")"
   ]
  },
  {
   "cell_type": "code",
   "execution_count": 17,
   "id": "87d782fb-331e-47c9-a2bd-d02391ca9228",
   "metadata": {},
   "outputs": [
    {
     "name": "stdout",
     "output_type": "stream",
     "text": [
      "0.2 kg is the weight of the newt\n"
     ]
    }
   ],
   "source": [
    "# 4.7.1\n",
    "weight = 0.2\n",
    "animal = 'newt'\n",
    "print(str(weight) + \" kg is the weight of the \" + animal)"
   ]
  },
  {
   "cell_type": "code",
   "execution_count": 22,
   "id": "4e4f7241-2ba7-4d5c-a24d-3cc960efa777",
   "metadata": {},
   "outputs": [
    {
     "name": "stdout",
     "output_type": "stream",
     "text": [
      "0.2 kg is the weight of the newt\n"
     ]
    }
   ],
   "source": [
    "# 4.7.2\n",
    "weight = 0.2\n",
    "animal = 'newt'\n",
    "print(\"{} kg is the weight of the {}\".format(str(weight),animal))"
   ]
  },
  {
   "cell_type": "code",
   "execution_count": 23,
   "id": "c4df6c11-4784-4244-9f28-91f325f28a31",
   "metadata": {},
   "outputs": [
    {
     "name": "stdout",
     "output_type": "stream",
     "text": [
      "0.2 kg is the weight of the newt\n"
     ]
    }
   ],
   "source": [
    "# 4.7.3\n",
    "weight = 0.2\n",
    "animal = 'newt'\n",
    "print(f\"{str(weight)} kg is the weight of the {animal}\")"
   ]
  },
  {
   "cell_type": "code",
   "execution_count": 24,
   "id": "460b1327-b033-4ad6-8e42-0ea0f6191394",
   "metadata": {},
   "outputs": [
    {
     "data": {
      "text/plain": [
       "-1"
      ]
     },
     "execution_count": 24,
     "metadata": {},
     "output_type": "execute_result"
    }
   ],
   "source": [
    "# 4.8.1\n",
    "'AAA'.find('a')"
   ]
  },
  {
   "cell_type": "code",
   "execution_count": 25,
   "id": "3095d67c-4893-4973-9aa0-987eb0dc8400",
   "metadata": {},
   "outputs": [
    {
     "data": {
      "text/plain": [
       "'Somebody xaid xomething to Samantha.'"
      ]
     },
     "execution_count": 25,
     "metadata": {},
     "output_type": "execute_result"
    }
   ],
   "source": [
    "# 4.8.2\n",
    "\"Somebody said something to Samantha.\".replace('s','x')"
   ]
  },
  {
   "cell_type": "code",
   "execution_count": 29,
   "id": "2b8ccafc-363e-4a06-ae9f-a471c5013c95",
   "metadata": {},
   "outputs": [
    {
     "name": "stdin",
     "output_type": "stream",
     "text": [
      "Type a word or a sentence:  Kraków\n",
      "Type a letter:  ó\n"
     ]
    },
    {
     "name": "stdout",
     "output_type": "stream",
     "text": [
      "4\n"
     ]
    }
   ],
   "source": [
    "# 4.8.3\n",
    "text = input(\"Type a word or a sentence: \")\n",
    "letter = input(\"Type a letter: \")\n",
    "print(text.find(letter.lower()))"
   ]
  },
  {
   "cell_type": "code",
   "execution_count": 40,
   "id": "37a0953a-9bdc-4269-b163-f3624a86801d",
   "metadata": {},
   "outputs": [
    {
     "name": "stdin",
     "output_type": "stream",
     "text": [
      "Enter some text:  Fantasmagoria\n"
     ]
    },
    {
     "name": "stdout",
     "output_type": "stream",
     "text": [
      "{'a': 4, 'b': 8, 'e': 3, 'l': 1, 'o': 0, 's': 5, 't': 7}\n",
      "F4n745m4g0ri4\n"
     ]
    }
   ],
   "source": [
    "# 4.9\n",
    "text = input(\"Enter some text: \")\n",
    "letters = ['a','b','e','l','o','s','t']\n",
    "numbers = [4,8,3,1,0,5,7]\n",
    "coder = dict(zip(letters, numbers))\n",
    "#print(coder)\n",
    "for letter in text:\n",
    "    if letter in coder.keys():\n",
    "        text = text.replace(letter, str(coder[letter]))\n",
    "print(text)\n",
    "        "
   ]
  },
  {
   "cell_type": "code",
   "execution_count": null,
   "id": "ac809003-173a-472a-9738-296a4f9a325b",
   "metadata": {},
   "outputs": [],
   "source": []
  }
 ],
 "metadata": {
  "kernelspec": {
   "display_name": "Python 3 (ipykernel)",
   "language": "python",
   "name": "python3"
  },
  "language_info": {
   "codemirror_mode": {
    "name": "ipython",
    "version": 3
   },
   "file_extension": ".py",
   "mimetype": "text/x-python",
   "name": "python",
   "nbconvert_exporter": "python",
   "pygments_lexer": "ipython3",
   "version": "3.10.8"
  }
 },
 "nbformat": 4,
 "nbformat_minor": 5
}
